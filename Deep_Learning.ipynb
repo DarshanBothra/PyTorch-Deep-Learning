{
  "nbformat": 4,
  "nbformat_minor": 0,
  "metadata": {
    "colab": {
      "provenance": [],
      "gpuType": "T4",
      "authorship_tag": "ABX9TyNuk3JraRvoksd2BAqL6z7w",
      "include_colab_link": true
    },
    "kernelspec": {
      "name": "python3",
      "display_name": "Python 3"
    },
    "language_info": {
      "name": "python"
    },
    "accelerator": "GPU"
  },
  "cells": [
    {
      "cell_type": "markdown",
      "metadata": {
        "id": "view-in-github",
        "colab_type": "text"
      },
      "source": [
        "<a href=\"https://colab.research.google.com/github/DarshanBothra/PyTorch-Deep-Learning/blob/main/Deep_Learning.ipynb\" target=\"_parent\"><img src=\"https://colab.research.google.com/assets/colab-badge.svg\" alt=\"Open In Colab\"/></a>"
      ]
    },
    {
      "cell_type": "code",
      "execution_count": 32,
      "metadata": {
        "id": "csvHWy_Nhcg_"
      },
      "outputs": [],
      "source": [
        "# !pip list\n",
        "import torch as pt\n",
        "import numpy as np"
      ]
    },
    {
      "cell_type": "code",
      "source": [
        "# 1-D Array\n",
        "my_list1 = [\n",
        "    1, 2, 3, 4, 5\n",
        "]\n",
        "\n",
        "# 2-D Array\n",
        "my_list2 = [\n",
        "    [1, 2, 3],\n",
        "    [4, 5, 6],\n",
        "    [7, 8, 9]\n",
        "]\n",
        "\n"
      ],
      "metadata": {
        "id": "0ZOZve2nh2TY"
      },
      "execution_count": 33,
      "outputs": []
    },
    {
      "cell_type": "code",
      "source": [
        "np1 = np.random.rand(3) # 1-D numpy array\n",
        "\n",
        "tensor_2d = pt.randn(3, 4) # 2-D Tensor\n",
        "tensor_3d = pt.zeros(2, 3, 4) # 3-D Tensor\n",
        "\n",
        "# Create tensor with numpy array\n",
        "tensor_1d = pt.tensor(np1)\n",
        "\n",
        "print(tensor_2d)\n",
        "print(tensor_2d.dtype)\n",
        "print(tensor_3d)\n",
        "print(tensor_3d.dtype)\n",
        "print(tensor_1d)\n",
        "print(tensor_1d.dtype)\n"
      ],
      "metadata": {
        "colab": {
          "base_uri": "https://localhost:8080/"
        },
        "id": "5qnmqA5VlJeA",
        "outputId": "7d2f66b6-8457-4c5f-9ee3-78a193fc48ff"
      },
      "execution_count": 34,
      "outputs": [
        {
          "output_type": "stream",
          "name": "stdout",
          "text": [
            "tensor([[ 0.1856, -0.7798, -1.4723, -1.8088],\n",
            "        [-0.1287,  0.9819, -1.0504, -2.1112],\n",
            "        [-1.6784, -1.0515,  0.1677, -1.3358]])\n",
            "torch.float32\n",
            "tensor([[[0., 0., 0., 0.],\n",
            "         [0., 0., 0., 0.],\n",
            "         [0., 0., 0., 0.]],\n",
            "\n",
            "        [[0., 0., 0., 0.],\n",
            "         [0., 0., 0., 0.],\n",
            "         [0., 0., 0., 0.]]])\n",
            "torch.float32\n",
            "tensor([0.6281, 0.1328, 0.1511], dtype=torch.float64)\n",
            "torch.float64\n"
          ]
        }
      ]
    },
    {
      "cell_type": "code",
      "source": [
        "my_torch = pt.arange(10)\n",
        "my_torch"
      ],
      "metadata": {
        "colab": {
          "base_uri": "https://localhost:8080/"
        },
        "id": "qa3rlDHFnJI5",
        "outputId": "a9ba081d-8d2e-4ed3-84c7-e804ecd311c6"
      },
      "execution_count": 35,
      "outputs": [
        {
          "output_type": "execute_result",
          "data": {
            "text/plain": [
              "tensor([0, 1, 2, 3, 4, 5, 6, 7, 8, 9])"
            ]
          },
          "metadata": {},
          "execution_count": 35
        }
      ]
    },
    {
      "cell_type": "code",
      "source": [
        "# Reshape and View\n",
        "my_torch = my_torch.reshape(2, 5)\n",
        "\n",
        "my_torch2 = pt.arange(10)\n",
        "my_torch2 = my_torch2.reshape(2, -1) # -1 will take len(tensor)/2 elemnets automatically\n",
        "my_torch2\n",
        "my_torch3 = my_torch2.view(-1, 2)\n",
        "my_torch4 = my_torch3.reshape(5, 2)\n",
        "my_torch3.shape, my_torch4.shape\n",
        "\n",
        "# Difference between reshape and view\n",
        "# View will reshape the tensor without changing the memory allocation for the tensors!\n",
        "# Reshape will reshape the tensor, it might change the memory allocation for the tensor though!\n",
        "my_torch5 = pt.arange(10)\n",
        "my_torch5\n",
        "my_torch6 = my_torch5.view(2, 5)\n",
        "my_torch5[1] = 4141\n",
        "my_torch5\n",
        "my_torch6\n",
        "# Slicing\n",
        "\n",
        "my_torch7 = pt.arange(10)\n",
        "\n",
        "# Specific Item\n",
        "print(my_torch7[7])\n",
        "print()\n",
        "# Slicing\n",
        "my_torch8 = my_torch7.reshape(5, 2)\n",
        "print(my_torch8)\n",
        "print()\n",
        "print(my_torch8[:3,1:])\n",
        "print()"
      ],
      "metadata": {
        "colab": {
          "base_uri": "https://localhost:8080/"
        },
        "id": "ZI1RE6nknOCX",
        "outputId": "0b54a1ab-3d06-40f0-90e3-b93c709b71c0"
      },
      "execution_count": 36,
      "outputs": [
        {
          "output_type": "stream",
          "name": "stdout",
          "text": [
            "tensor(7)\n",
            "\n",
            "tensor([[0, 1],\n",
            "        [2, 3],\n",
            "        [4, 5],\n",
            "        [6, 7],\n",
            "        [8, 9]])\n",
            "\n",
            "tensor([[1],\n",
            "        [3],\n",
            "        [5]])\n",
            "\n"
          ]
        }
      ]
    },
    {
      "cell_type": "code",
      "source": [
        "# Mathematics for Tensors\n",
        "\n",
        "tensor_a = pt.tensor([1, 2, 3, 4])\n",
        "tensor_b = pt.tensor([5, 6, 7, 8])\n",
        "\n",
        "# Addition\n",
        "print(\"addition: \", pt.add(tensor_a, tensor_b))\n",
        "\n",
        "# Subtraction\n",
        "print(\"subtraction: \", pt.sub(tensor_a, tensor_b))\n",
        "\n",
        "# Multiplication\n",
        "print(\"mutliplication : \", pt.mul(tensor_a, tensor_b)) # corresponding terms are multiplied in the matrices, this is not matrix multiplication\n",
        "\n",
        "# Division\n",
        "print(\"division: \", pt.div(tensor_a, tensor_b))\n",
        "\n",
        "# Modulus\n",
        "print(\"modulus: \", pt.remainder(tensor_a, tensor_b))\n",
        "\n",
        "# Exponent\n",
        "print(\"exponent: \", pt.pow(tensor_a, tensor_b))\n",
        "\n",
        "# Reassignment\n",
        "# tensor_a.add_(tensor_b) # Weird\n",
        "tensor_a += tensor_b\n",
        "tensor_a"
      ],
      "metadata": {
        "colab": {
          "base_uri": "https://localhost:8080/"
        },
        "id": "vE-tetV2qgrq",
        "outputId": "6163f6fd-d812-4938-aade-1e7b3f94806d"
      },
      "execution_count": 37,
      "outputs": [
        {
          "output_type": "stream",
          "name": "stdout",
          "text": [
            "addition:  tensor([ 6,  8, 10, 12])\n",
            "subtraction:  tensor([-4, -4, -4, -4])\n",
            "mutliplication :  tensor([ 5, 12, 21, 32])\n",
            "division:  tensor([0.2000, 0.3333, 0.4286, 0.5000])\n",
            "modulus:  tensor([1, 2, 3, 4])\n",
            "exponent:  tensor([    1,    64,  2187, 65536])\n"
          ]
        },
        {
          "output_type": "execute_result",
          "data": {
            "text/plain": [
              "tensor([ 6,  8, 10, 12])"
            ]
          },
          "metadata": {},
          "execution_count": 37
        }
      ]
    },
    {
      "cell_type": "code",
      "source": [
        "# Basic Neural Network\n",
        "\n",
        "# Iris dataset (flower classification)\n",
        "\n",
        "import torch as pt\n",
        "import torch.nn as nn\n",
        "import torch.nn.functional as F\n"
      ],
      "metadata": {
        "id": "pQZoVds2yj5V"
      },
      "execution_count": 38,
      "outputs": []
    },
    {
      "cell_type": "code",
      "source": [
        "# Create a Model Class (inherits the nn module)\n",
        "\n",
        "class Model(nn.Module):\n",
        "  # Input Layer having the 4 features of flowers -->\n",
        "  # H1 -->\n",
        "  # H2 -->\n",
        "  # Output (3 classes of iris flowers)\n",
        "  def __init__(self, in_features=4, h1 = 8, h2 = 9, out_features = 3):\n",
        "    super().__init__()\n",
        "    self.fc1 = nn.Linear(in_features, h1) # Fully connected Layer 1\n",
        "\n",
        "    self.fc2 = nn.Linear(h1, h2) # Fully connected Layer 2\n",
        "\n",
        "    self.out = nn.Linear(h2, out_features) # Output Layer\n",
        "\n",
        "  def forward(self, x):\n",
        "    x = F.relu(self.fc1(x))\n",
        "    x = F.relu(self.fc2(x))\n",
        "    x = self.out(x)\n",
        "    return x\n",
        "\n"
      ],
      "metadata": {
        "id": "gu8_2NVGztjF"
      },
      "execution_count": 39,
      "outputs": []
    },
    {
      "cell_type": "code",
      "source": [
        "seed = pt.manual_seed(75)\n",
        "\n",
        "# Create an instance of the model\n",
        "model = Model()\n",
        "\n"
      ],
      "metadata": {
        "id": "yM4TED6z1nII"
      },
      "execution_count": 220,
      "outputs": []
    },
    {
      "cell_type": "code",
      "source": [
        "import matplotlib.pyplot as plt\n",
        "import pandas as pd\n",
        "\n",
        "%matplotlib inline"
      ],
      "metadata": {
        "id": "8gBIzfkK2aiu"
      },
      "execution_count": 221,
      "outputs": []
    },
    {
      "cell_type": "code",
      "source": [
        "url = \"https://gist.githubusercontent.com/curran/a08a1080b88344b0c8a7/raw/0e7a9b0a5d22642a06d3d5b9bcbad9890c8ee534/iris.csv\"\n",
        "df = pd.read_csv(url)\n",
        "\n",
        "# Change last column from string to integer categories\n",
        "\n",
        "\"\"\"\n",
        "0 - Setosa\n",
        "1 - Versicolor\n",
        "2 - Virginica\n",
        "\"\"\"\n",
        "\n",
        "df.loc[df['species'] == 'setosa', 'species'] = 0.0\n",
        "df.loc[df['species'] =='versicolor', 'species'] = 1.0\n",
        "df.loc[df['species'] == 'virginica', 'species'] = 2.0\n",
        "\n",
        "X = df.drop('species', axis = 1).values # featuers\n",
        "y = list(df['species'].values) # Species\n"
      ],
      "metadata": {
        "id": "Cf6GyKl92hhm"
      },
      "execution_count": 222,
      "outputs": []
    },
    {
      "cell_type": "code",
      "source": [
        "from sklearn.model_selection import train_test_split\n",
        "\n",
        "X_train, X_test, y_train, y_test = train_test_split(X, y, test_size = 0.2, random_state = 75)\n",
        "\n",
        "X_train = pt.FloatTensor(X_train)\n",
        "X_test = pt.FloatTensor(X_test)\n",
        "\n",
        "y_train = pt.LongTensor(y_train)\n",
        "y_test = pt.LongTensor(y_test)\n",
        "# Chose loss function\n",
        "\n",
        "lossFN = nn.CrossEntropyLoss() # We are using a cross entropy loss function\n",
        "\n",
        "# Choose optimizer, learning rate (if error doesn't go down after a bunch of epochs, we will lower this! like if a child doesn't learn fast teach him slow! (more epoches))\n",
        "\n",
        "optimizer = pt.optim.Adam(model.parameters(), lr = 0.03)\n",
        "\n",
        "print(list(y_train).count(0), list(y_train).count(1), list(y_train).count(2))\n",
        "print(list(y_test).count(0), list(y_test).count(1), list(y_test).count(2))\n",
        "\n"
      ],
      "metadata": {
        "id": "XJBJW3zN8mVw",
        "colab": {
          "base_uri": "https://localhost:8080/"
        },
        "outputId": "53b6d45c-46ab-47ee-f8df-ba65d3fab181"
      },
      "execution_count": 223,
      "outputs": [
        {
          "output_type": "stream",
          "name": "stdout",
          "text": [
            "40 40 40\n",
            "10 10 10\n"
          ]
        }
      ]
    },
    {
      "cell_type": "code",
      "source": [
        "# Training the model\n",
        "\n",
        "# Epoches? - a run through all the training data in our network\n",
        "\n",
        "epochs = 500\n",
        "losses = []\n",
        "\n",
        "for i in range(epochs):\n",
        "  # Go Forward and get a prediction\n",
        "  y_pred = model.forward(X_train) # get predicted results for the training data\n",
        "  # Measure the loss\n",
        "  loss = lossFN(y_pred, y_train)\n",
        "\n",
        "  # Keep appending losses\n",
        "  losses.append(loss.detach().numpy())\n",
        "\n",
        "  # Do back-propogation so that the model can learn from its mistakes!\n",
        "  # Take the error rate of forward propogation and feed it back throught the network to finetune the weights\n",
        "\n",
        "  optimizer.zero_grad()\n",
        "  loss.backward()\n",
        "  optimizer.step()\n",
        "loss = lossFN(y_pred, y_train)\n",
        "print(loss)\n",
        "plt.plot(range(epochs), losses)\n",
        "plt.ylabel(\"Loss/Error\")\n",
        "plt.xlabel(\"Epoch\")\n",
        "plt.title(\"Loss Epochs\")\n",
        "plt.show()"
      ],
      "metadata": {
        "colab": {
          "base_uri": "https://localhost:8080/",
          "height": 489
        },
        "id": "oW8TIrmz-mVY",
        "outputId": "a3a2fbd7-35a6-4847-fc77-3323b1a44b19"
      },
      "execution_count": 224,
      "outputs": [
        {
          "output_type": "stream",
          "name": "stdout",
          "text": [
            "tensor(0.0492, grad_fn=<NllLossBackward0>)\n"
          ]
        },
        {
          "output_type": "display_data",
          "data": {
            "text/plain": [
              "<Figure size 640x480 with 1 Axes>"
            ],
            "image/png": "[encoded data removed]"
          },
          "metadata": {}
        }
      ]
    },
    {
      "cell_type": "code",
      "source": [
        "with pt.no_grad(): # Turns off back propogation\n",
        "  y_eval = model.forward(X_test)\n",
        "  loss = lossFN(y_eval,y_test)\n",
        "print(loss)\n"
      ],
      "metadata": {
        "id": "qztAuu8BDcwS",
        "colab": {
          "base_uri": "https://localhost:8080/"
        },
        "outputId": "e6432a84-4114-44ea-cbea-29e1148191d5"
      },
      "execution_count": 225,
      "outputs": [
        {
          "output_type": "stream",
          "name": "stdout",
          "text": [
            "tensor(0.0045)\n"
          ]
        }
      ]
    },
    {
      "cell_type": "code",
      "source": [
        "correct = 0\n",
        "with pt.no_grad():\n",
        "  for i, data in enumerate(X_test):\n",
        "    y_eval = model.forward(data)\n",
        "\n",
        "    # What type of flower our network thinks it is!\n",
        "    print(f\"{i+1}) {list(y_eval).index(max(list(y_eval)))}\")\n",
        "  # Correct or not?\n",
        "    if y_eval.argmax().item() == y_test[i]:\n",
        "      print(\"Correct\")\n",
        "      correct +=1\n",
        "    else:\n",
        "      print(f\"Incorrect: {y_test[i]}\")\n",
        "print(f\"{correct}/30 Correct!\")\n",
        ""
      ],
      "metadata": {
        "colab": {
          "base_uri": "https://localhost:8080/"
        },
        "id": "PzaVeBsLegeB",
        "outputId": "ab5163f0-2704-486e-bd91-c9cdb2f1e922"
      },
      "execution_count": 228,
      "outputs": [
        {
          "output_type": "stream",
          "name": "stdout",
          "text": [
            "1) 2\n",
            "Correct\n",
            "2) 2\n",
            "Correct\n",
            "3) 1\n",
            "Correct\n",
            "4) 1\n",
            "Correct\n",
            "5) 1\n",
            "Correct\n",
            "6) 0\n",
            "Correct\n",
            "7) 0\n",
            "Correct\n",
            "8) 1\n",
            "Correct\n",
            "9) 0\n",
            "Correct\n",
            "10) 1\n",
            "Correct\n",
            "11) 2\n",
            "Correct\n",
            "12) 0\n",
            "Correct\n",
            "13) 2\n",
            "Correct\n",
            "14) 0\n",
            "Correct\n",
            "15) 1\n",
            "Correct\n",
            "16) 2\n",
            "Correct\n",
            "17) 2\n",
            "Correct\n",
            "18) 2\n",
            "Correct\n",
            "19) 1\n",
            "Correct\n",
            "20) 2\n",
            "Correct\n",
            "21) 0\n",
            "Correct\n",
            "22) 1\n",
            "Correct\n",
            "23) 2\n",
            "Correct\n",
            "24) 0\n",
            "Correct\n",
            "25) 0\n",
            "Correct\n",
            "26) 1\n",
            "Correct\n",
            "27) 1\n",
            "Correct\n",
            "28) 2\n",
            "Correct\n",
            "29) 0\n",
            "Correct\n",
            "30) 0\n",
            "Correct\n",
            "30/30 Correct!\n"
          ]
        }
      ]
    },
    {
      "cell_type": "code",
      "source": [
        "# Feeding new data to our neural network!\n",
        "\n",
        "new_iris = pt.tensor([4.7, 3.2, 1.3, 0.2])\n",
        "\n",
        "with pt.no_grad():\n",
        "  print(model(new_iris).argmax())\n",
        "\n",
        "\n",
        "newer_iris = pt.tensor([5.9, 3.0, 5.1, 1.8])\n",
        "\n",
        "with pt.no_grad():\n",
        "  print(model(newer_iris).argmax())"
      ],
      "metadata": {
        "colab": {
          "base_uri": "https://localhost:8080/"
        },
        "id": "GcstbMKaiMq_",
        "outputId": "723918d3-27c5-4a64-bde3-0dd4bfc134f1"
      },
      "execution_count": 234,
      "outputs": [
        {
          "output_type": "stream",
          "name": "stdout",
          "text": [
            "tensor(0)\n",
            "tensor(2)\n"
          ]
        }
      ]
    }
  ]
}