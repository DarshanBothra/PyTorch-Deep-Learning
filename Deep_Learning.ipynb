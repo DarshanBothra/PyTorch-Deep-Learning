{
  "nbformat": 4,
  "nbformat_minor": 0,
  "metadata": {
    "colab": {
      "provenance": [],
      "gpuType": "T4",
      "authorship_tag": "ABX9TyPpwrslGGu4uhrAAfYTh+TV",
      "include_colab_link": true
    },
    "kernelspec": {
      "name": "python3",
      "display_name": "Python 3"
    },
    "language_info": {
      "name": "python"
    },
    "accelerator": "GPU"
  },
  "cells": [
    {
      "cell_type": "markdown",
      "metadata": {
        "id": "view-in-github",
        "colab_type": "text"
      },
      "source": [
        "<a href=\"https://colab.research.google.com/github/DarshanBothra/PyTorch-Deep-Learning/blob/main/Deep_Learning.ipynb\" target=\"_parent\"><img src=\"https://colab.research.google.com/assets/colab-badge.svg\" alt=\"Open In Colab\"/></a>"
      ]
    },
    {
      "cell_type": "code",
      "execution_count": 8,
      "metadata": {
        "id": "csvHWy_Nhcg_"
      },
      "outputs": [],
      "source": [
        "# !pip list\n",
        "import torch as pt\n",
        "import numpy as np"
      ]
    },
    {
      "cell_type": "code",
      "source": [
        "# 1-D Array\n",
        "my_list1 = [\n",
        "    1, 2, 3, 4, 5\n",
        "]\n",
        "\n",
        "# 2-D Array\n",
        "my_list2 = [\n",
        "    [1, 2, 3],\n",
        "    [4, 5, 6],\n",
        "    [7, 8, 9]\n",
        "]\n",
        "\n"
      ],
      "metadata": {
        "colab": {
          "base_uri": "https://localhost:8080/"
        },
        "id": "0ZOZve2nh2TY",
        "outputId": "d9fd6632-5f8d-40c2-c1d6-ca1674eae554"
      },
      "execution_count": 7,
      "outputs": [
        {
          "output_type": "execute_result",
          "data": {
            "text/plain": [
              "([1, 2, 3, 4, 5], [[1, 2, 3], [4, 5, 6], [7, 8, 9]])"
            ]
          },
          "metadata": {},
          "execution_count": 7
        }
      ]
    },
    {
      "cell_type": "code",
      "source": [
        "np1 = np.random.rand(3) # 1-D numpy array\n",
        "\n",
        "tensor_2d = pt.randn(3, 4) # 2-D Tensor\n",
        "tensor_3d = pt.zeros(2, 3, 4) # 3-D Tensor\n",
        "\n",
        "# Create tensor with numpy array\n",
        "tensor_1d = pt.tensor(np1)\n",
        "\n",
        "print(tensor_2d)\n",
        "print(tensor_2d.dtype)\n",
        "print(tensor_3d)\n",
        "print(tensor_3d.dtype)\n",
        "print(tensor_1d)\n",
        "print(tensor_1d.dtype)\n"
      ],
      "metadata": {
        "colab": {
          "base_uri": "https://localhost:8080/"
        },
        "id": "5qnmqA5VlJeA",
        "outputId": "486fb40b-30de-45c1-eae2-bfc47640b688"
      },
      "execution_count": 24,
      "outputs": [
        {
          "output_type": "stream",
          "name": "stdout",
          "text": [
            "tensor([[-1.7845,  2.4506, -0.9552, -0.7598],\n",
            "        [-0.6174, -2.4172, -0.3372,  0.1134],\n",
            "        [-0.0067, -1.3505,  0.0676, -0.9357]])\n",
            "torch.float32\n",
            "tensor([[[0., 0., 0., 0.],\n",
            "         [0., 0., 0., 0.],\n",
            "         [0., 0., 0., 0.]],\n",
            "\n",
            "        [[0., 0., 0., 0.],\n",
            "         [0., 0., 0., 0.],\n",
            "         [0., 0., 0., 0.]]])\n",
            "torch.float32\n",
            "tensor([0.5665, 0.2903, 0.9349], dtype=torch.float64)\n",
            "torch.float64\n"
          ]
        }
      ]
    },
    {
      "cell_type": "code",
      "source": [
        "my_torch = pt.arange(10)\n",
        "my_torch"
      ],
      "metadata": {
        "colab": {
          "base_uri": "https://localhost:8080/"
        },
        "id": "qa3rlDHFnJI5",
        "outputId": "70e54b1a-8c54-4c60-9f57-9b0b0f17eadd"
      },
      "execution_count": 25,
      "outputs": [
        {
          "output_type": "execute_result",
          "data": {
            "text/plain": [
              "tensor([0, 1, 2, 3, 4, 5, 6, 7, 8, 9])"
            ]
          },
          "metadata": {},
          "execution_count": 25
        }
      ]
    },
    {
      "cell_type": "code",
      "source": [
        "# Reshape and View\n",
        "my_torch = my_torch.reshape(2, 5)\n",
        "\n",
        "my_torch2 = pt.arange(10)\n",
        "my_torch2 = my_torch2.reshape(2, -1) # -1 will take len(tensor)/2 elemnets automatically\n",
        "my_torch2\n",
        "my_torch3 = my_torch2.view(-1, 2)\n",
        "my_torch4 = my_torch3.reshape(5, 2)\n",
        "my_torch3.shape, my_torch4.shape\n",
        "\n",
        "# Difference between reshape and view\n",
        "# View will reshape the tensor without changing the memory allocation for the tensors!\n",
        "# Reshape will reshape the tensor, it might change the memory allocation for the tensor though!"
      ],
      "metadata": {
        "colab": {
          "base_uri": "https://localhost:8080/"
        },
        "id": "ZI1RE6nknOCX",
        "outputId": "5148d086-93e4-4479-ddeb-327c2c2f3144"
      },
      "execution_count": 44,
      "outputs": [
        {
          "output_type": "execute_result",
          "data": {
            "text/plain": [
              "(torch.Size([5, 2]), torch.Size([5, 2]))"
            ]
          },
          "metadata": {},
          "execution_count": 44
        }
      ]
    },
    {
      "cell_type": "code",
      "source": [
        "my_torch5 = pt.arange(10)\n",
        "my_torch5\n",
        "my_torch6 = my_torch5.view(2, 5)\n",
        "my_torch5[1] = 4141\n",
        "my_torch5\n",
        "my_torch6"
      ],
      "metadata": {
        "colab": {
          "base_uri": "https://localhost:8080/"
        },
        "id": "_2Uh0f4OpcI8",
        "outputId": "6cdf5731-2f7c-4f04-a792-369803aa8038"
      },
      "execution_count": 48,
      "outputs": [
        {
          "output_type": "execute_result",
          "data": {
            "text/plain": [
              "tensor([[   0, 4141,    2,    3,    4],\n",
              "        [   5,    6,    7,    8,    9]])"
            ]
          },
          "metadata": {},
          "execution_count": 48
        }
      ]
    },
    {
      "cell_type": "code",
      "source": [
        "# Slicing\n",
        "\n",
        "my_torch7 = pt.arange(10)\n",
        "\n",
        "# Specific Item\n",
        "print(my_torch7[7])\n",
        "print()\n",
        "# Slicing\n",
        "my_torch8 = my_torch7.reshape(5, 2)\n",
        "print(my_torch8)\n",
        "print()\n",
        "print(my_torch8[:3,1:])\n",
        "print()\n"
      ],
      "metadata": {
        "colab": {
          "base_uri": "https://localhost:8080/"
        },
        "id": "VjjpYifipxfX",
        "outputId": "dbf2d38c-ef36-479b-e3c6-edc1525dc9e4"
      },
      "execution_count": 59,
      "outputs": [
        {
          "output_type": "stream",
          "name": "stdout",
          "text": [
            "tensor(7)\n",
            "\n",
            "tensor([[0, 1],\n",
            "        [2, 3],\n",
            "        [4, 5],\n",
            "        [6, 7],\n",
            "        [8, 9]])\n",
            "\n",
            "tensor([[1],\n",
            "        [3],\n",
            "        [5]])\n",
            "\n"
          ]
        }
      ]
    },
    {
      "cell_type": "code",
      "source": [],
      "metadata": {
        "id": "vE-tetV2qgrq"
      },
      "execution_count": null,
      "outputs": []
    }
  ]
}